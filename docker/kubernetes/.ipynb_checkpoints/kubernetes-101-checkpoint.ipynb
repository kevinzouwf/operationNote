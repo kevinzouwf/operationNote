{
 "cells": [
  {
   "cell_type": "markdown",
   "metadata": {},
   "source": [
    "# kubernetes architecture\n",
    "\n",
    "## Objectives\n",
    "\n",
    "- A closer look at kubernetes cluster\n",
    "- master componentes\n",
    "- node componentes\n",
    "- pods\n",
    "- Lables & Selectors\n",
    "- Replication Controllers\n",
    "- Services\n",
    "\n",
    "![avatar](./kubernetes-101/images/componentes.png)\n",
    "\n",
    "\n",
    "kubernetes master have 3  componetes in kubernetes master\n",
    "\n",
    "![avatar](./kubernetes-101/images/kubernetes-master.png)\n",
    "\n",
    "Kubernetes is highly api centered. The Kubernetes API server validates and configures data for the api objects which include pods, services, replicationcontrollers, and others. The API Server services REST operations and provides the frontend to the cluster’s shared state through which all other components interact.\n",
    "\n",
    "The Kubernetes scheduler is a policy-rich, topology-aware, workload-specific function that significantly impacts availability, performance, and capacity. The scheduler needs to take into account individual and collective resource requirements, quality of service requirements, hardware/software/policy constraints, affinity and anti-affinity specifications, data locality, inter-workload interference, deadlines, and so on. Workload-specific requirements will be exposed through the API as necessary.\n",
    "\n",
    "The Kubernetes controller manager is a daemon that embeds the core control loops shipped with Kubernetes. In applications of robotics and automation, a control loop is a non-terminating loop that regulates the state of the system. In Kubernetes, a controller is a control loop that watches the shared state of the cluster through the apiserver and makes changes attempting to move the current state towards the desired state. Examples of controllers that ship with Kubernetes today are the replication controller, endpoints controller, namespace controller, and serviceaccounts controller\n",
    "\n",
    "\n",
    "Etcd store the current cluster staate at any point of time any component \n",
    " \n",
    "![avatar](./kubernetes-101/images/kubernetes-node.png)\n",
    "\n",
    "The Kubernetes network proxy runs on each node. This reflects services as defined in the Kubernetes API on each node and can do simple TCP,UDP stream forwarding or round robin TCP,UDP forwarding across a set of backends. Service cluster ips and ports are currently found through Docker-links-compatible environment variables specifying ports opened by the service proxy. There is an optional addon that provides cluster DNS for these cluster IPs. The user must create a service with the apiserver API to configure the proxy.\n",
    " \n",
    "The kubelet is the primary “node agent” that runs on each node. The kubelet works in terms of a PodSpec. A PodSpec is a YAML or JSON object that describes a pod. The kubelet takes a set of PodSpecs that are provided through various mechanisms (primarily through the apiserver) and ensures that the containers described in those PodSpecs are running and healthy. The kubelet doesn’t manage containers which were not created by Kubernetes.\n",
    "Other than from an PodSpec from the apiserver, there are three ways that a container manifest can be provided to the Kubelet.\n",
    "File: Path passed as a flag on the command line. Files under this path will be monitored periodically for updates. The monitoring period is 20s by default and is configurable via a flag.\n",
    "HTTP endpoint: HTTP endpoint passed as a parameter on the command line. This endpoint is checked every 20 seconds (also configurable with a flag).\n",
    "HTTP server: The kubelet can also listen for HTTP and respond to a simple API (underspec’d currently) to submit a new manifest.\n",
    "\n",
    "fluentd is the component which is basically responsible for managing the logs and talking to the central locking mechanism\n",
    "\n",
    "## kubernetes pod\n",
    "\n",
    "the fundamental unit of deployment in kubernetes is called a pod\n",
    "\n",
    "- group of one or more containers that are always co-located, co-scheduled, and run in a shared context\n",
    "- container in the same pod have the same hostname\n",
    "- each pod is isolated by \n",
    "  - Process ID (PID) namespace\n",
    "  - Network namespace\n",
    "  - Interprocess Communication (IPC) namespace\n",
    "  - Unix Time Sharing (UTS) namespace\n",
    "- ALternative to a VM with multiple processes\n",
    "\n"
   ]
  },
  {
   "cell_type": "code",
   "execution_count": null,
   "metadata": {},
   "outputs": [],
   "source": []
  }
 ],
 "metadata": {
  "kernelspec": {
   "display_name": "Python 3",
   "language": "python",
   "name": "python3"
  },
  "language_info": {
   "codemirror_mode": {
    "name": "ipython",
    "version": 3
   },
   "file_extension": ".py",
   "mimetype": "text/x-python",
   "name": "python",
   "nbconvert_exporter": "python",
   "pygments_lexer": "ipython3",
   "version": "3.6.1"
  }
 },
 "nbformat": 4,
 "nbformat_minor": 2
}
